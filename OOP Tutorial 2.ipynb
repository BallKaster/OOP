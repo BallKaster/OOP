{
 "cells": [
  {
   "cell_type": "markdown",
   "metadata": {},
   "source": [
    "## Tutorial Two - Inheritance and Documentation\n",
    "This notebook requires you to complete the missing parts of the Jupyter notebook. This will include comments in markdown, or completing code for the outline classes that is provided. When you are done you will (hopefully) be able to:\n",
    "- Create a class hierarchy\n",
    "- Inherit the properties and methods from a class when deriving a new class\n",
    "- Understand how a message signature looks and how that relates to the concept of an interface\n",
    "- Understand basic access modifiers\n",
    "- Document a class with 'docstrings'"
   ]
  },
  {
   "cell_type": "markdown",
   "metadata": {},
   "source": [
    "### Introducing docstrings\n",
    "In programming, a docstring is a string literal specified in source code that is used, like a comment, to document a specific segment of code. Unlike conventional source code comments, or even specifically formatted comments like Javadoc documentation, docstrings are not stripped from the source tree when it is parsed and are retained throughout the runtime of the program. This allows the programmer to inspect these comments at run time, for instance as an interactive help system, or as metadata. -- Wikipedia"
   ]
  },
  {
   "cell_type": "markdown",
   "metadata": {},
   "source": [
    "#### Examine the following class\n",
    "Pay attention to the strings inside the class, and specifically to how these are indented. Also note that three double quotes in a row allows the string to span multiple lines. \n",
    "\n",
    "When you are done examining the code. Try to run the python help() command for class Point."
   ]
  },
  {
   "cell_type": "code",
   "execution_count": null,
   "metadata": {},
   "outputs": [],
   "source": [
    "import math\n",
    "class Point:\n",
    "    \"Represents a point in two-dimensional geometric coordinates\"\n",
    "    \n",
    "    def __init__(self, x=0, y=0):\n",
    "        \"\"\"Initialize the position of a new point. The x and y\n",
    "        coordinates can be specified. If they are not, the\n",
    "        point defaults to the origin.\"\"\"\n",
    "        self.move(x, y)\n",
    "        \n",
    "    def move(self, x, y):\n",
    "        \"Move the point to a new location in 2D space.\"\n",
    "        self.x = x\n",
    "        self.y = y\n",
    "        \n",
    "    def reset(self):\n",
    "        \"Reset the point back to the geometric origin: 0, 0\"\n",
    "        self.move(0, 0)\n",
    "        \n",
    "    def calculate_distance(self, other_point):\n",
    "        \"\"\"Calculate the distance from this point to a second\n",
    "        point passed as a parameter.\n",
    "        This function uses the Pythagorean Theorem to calculate\n",
    "        the distance between the two points. The distance is\n",
    "        returned as a float.\"\"\"\n",
    "        return math.sqrt(\n",
    "            (self.x - other_point.x) ** 2\n",
    "            + (self.y - other_point.y) ** 2\n",
    "        )"
   ]
  },
  {
   "cell_type": "code",
   "execution_count": null,
   "metadata": {},
   "outputs": [],
   "source": [
    "# Run the help() command for point here\n",
    "help(Point)"
   ]
  },
  {
   "cell_type": "markdown",
   "metadata": {},
   "source": [
    "#### Signatures and interfaces\n",
    "Examine the help output above. For each method the signature of that method is listed. For example \n",
    "\n",
    "move(self, x, y)\n",
    "\n",
    "The above *signature* tells you that the class has a method called move, and that move requires two input parameters in addition to the class itself. "
   ]
  },
  {
   "cell_type": "markdown",
   "metadata": {},
   "source": [
    "### A First Object Hierarchy\n",
    "Examine the class below. Suppose we wanted to use multiple shapes. We want a class square, class rectangle, and class triangle. All of these classes will have a height and width property. ALl of these will have a formula to calculate the area. \n",
    "\n",
    "**Define a class called Shape and put the common attributes inside shape.**\n",
    "\n",
    "**Now derive class square, rectangle and triangle from shape.**"
   ]
  },
  {
   "cell_type": "code",
   "execution_count": 47,
   "metadata": {},
   "outputs": [],
   "source": [
    "class Shape:\n",
    "    \"Main class for all sub-classes\"\n",
    "    def __init__(self, height, width):\n",
    "        self.height = height\n",
    "        self.width = width\n",
    "        self.set_area()\n",
    "        \n",
    "    def set_area(self):\n",
    "        self.area = self.height * self.width\n",
    "        \n",
    "#First Sub-Class\n",
    "class Square(Shape):\n",
    "\n",
    "    # Initializer / Instance Attributes\n",
    "    def __init__(self, height, width):\n",
    "        Shape.__init__(self, height, width)\n",
    "        self.set_area()\n",
    "\n",
    "    def describe_square(self):\n",
    "        return \"The square has a height of {} and a width of {}\" \\\n",
    "                \" and its total area = {}\".format(self.height, self.width,self.area)\n",
    "\n",
    "#Second Sub-Class\n",
    "class Rectangle(Shape):\n",
    "    \n",
    "    def __init__(self, height, width):\n",
    "        Shape.__init__(self, height, width)\n",
    "        self.set_area()\n",
    "        \n",
    "    def describe_rectangle(self):\n",
    "        return \"The rectangle has a height of {} and a width of {}\" \\\n",
    "                \" and its total area is {}\".format(self.height, self.width, self.area)\n",
    "\n",
    "#Third Sub-Class\n",
    "class Triangle(Shape):\n",
    "    \n",
    "    def __init__(self, height, width):\n",
    "        Shape.__init__(self, height, width)\n",
    "        self.set_t_area()\n",
    "        \n",
    "    def set_t_area(self):\n",
    "        self.t_area = self.area/2\n",
    "        \n",
    "    def describe_triangle(self):\n",
    "        return \"The triangle has a height of {} and a width of {}\" \\\n",
    "                \" and its total area is {}\".format(self.height, self.width, self.t_area)"
   ]
  },
  {
   "cell_type": "code",
   "execution_count": 48,
   "metadata": {},
   "outputs": [],
   "source": [
    "#t = Triangle(20, 10)\n",
    "s = Square(20, 20)\n",
    "r = Rectangle(20, 10)\n",
    "tri = Triangle(15, 20)"
   ]
  },
  {
   "cell_type": "code",
   "execution_count": 49,
   "metadata": {},
   "outputs": [
    {
     "data": {
      "text/plain": [
       "'The square has a height of 20 and a width of 20 and its total area = 400'"
      ]
     },
     "execution_count": 49,
     "metadata": {},
     "output_type": "execute_result"
    }
   ],
   "source": [
    "s.describe_square()\n"
   ]
  },
  {
   "cell_type": "code",
   "execution_count": 50,
   "metadata": {},
   "outputs": [
    {
     "data": {
      "text/plain": [
       "'The rectangle has a height of 20 and a width of 10 and its total area is 200'"
      ]
     },
     "execution_count": 50,
     "metadata": {},
     "output_type": "execute_result"
    }
   ],
   "source": [
    "r.describe_rectangle()"
   ]
  },
  {
   "cell_type": "code",
   "execution_count": 51,
   "metadata": {},
   "outputs": [
    {
     "data": {
      "text/plain": [
       "'The triangle has a height of 15 and a width of 20 and its total area is 150.0'"
      ]
     },
     "execution_count": 51,
     "metadata": {},
     "output_type": "execute_result"
    }
   ],
   "source": [
    "tri.describe_triangle()"
   ]
  },
  {
   "cell_type": "markdown",
   "metadata": {},
   "source": [
    "### Access modifiers\n",
    "It might be possible for a user to access your classes' width and height properties directly.\n",
    "Change these properties so that they are private and add property methods to allow the user to set them"
   ]
  },
  {
   "cell_type": "code",
   "execution_count": 1,
   "metadata": {},
   "outputs": [],
   "source": [
    "class Shape:\n",
    "    def __init__(self, height, width, shape):\n",
    "        try:\n",
    "            h = int(height)\n",
    "            w = int(width)\n",
    "            self.__height = h\n",
    "            self.__width = w\n",
    "            self.shape = shape\n",
    "            self.set_area()\n",
    "        except ValueError:\n",
    "            print(\"Not a number.\")\n",
    "        \n",
    "    def set_area(self):\n",
    "        if self.shape == \"Square\" or self.shape == \"Rectangular\":\n",
    "            self.area = self.height * self.width\n",
    "        if self.shape == \"Triangle\":\n",
    "            self.area = (self.height * self.width)/2\n",
    "        \n",
    "    def set_width(self, width):\n",
    "        self.__width = width\n",
    "    \n",
    "    def get_width(self):\n",
    "        return self.__width\n",
    "    \n",
    "    def set_height(self, height):\n",
    "        self.__height = height\n",
    "        \n",
    "    def get_height(self):\n",
    "        return self.__height\n",
    "    \n",
    "    width = property(get_width, set_width)\n",
    "    height = property(get_height, set_height)    \n",
    "    \n",
    "    def describe_all(self):\n",
    "        return \"The {} has a height of {} and a width of {}\" \\\n",
    "                \" and its total area is {}\".format(self.shape, self.height, self.width, self.area)\n",
    "    \n",
    "    \n",
    "        \n",
    "        "
   ]
  },
  {
   "cell_type": "code",
   "execution_count": 2,
   "metadata": {},
   "outputs": [],
   "source": [
    "class Square(Shape):\n",
    "    \n",
    "    def __init__(self, height, width):\n",
    "        Shape.__init__(self, height, width, \"Square\")\n",
    "        self.set_area()"
   ]
  },
  {
   "cell_type": "code",
   "execution_count": 3,
   "metadata": {},
   "outputs": [],
   "source": [
    "class Rectangular(Shape):\n",
    "    \n",
    "    def __init__(self, height, width):\n",
    "        Shape.__init__(self, height, width, \"Rectangular\")\n",
    "        self.set_area()"
   ]
  },
  {
   "cell_type": "code",
   "execution_count": 4,
   "metadata": {},
   "outputs": [],
   "source": [
    "class Triangle(Shape):\n",
    "    \n",
    "    def __init__(self, height, width):\n",
    "        Shape.__init__(self, height, width, \"Triangle\")\n",
    "        self.set_area()"
   ]
  },
  {
   "cell_type": "code",
   "execution_count": 5,
   "metadata": {},
   "outputs": [],
   "source": [
    "sq = Square(30, 30)"
   ]
  },
  {
   "cell_type": "code",
   "execution_count": 6,
   "metadata": {},
   "outputs": [
    {
     "data": {
      "text/plain": [
       "'The Square has a height of 30 and a width of 30 and its total area is 900'"
      ]
     },
     "execution_count": 6,
     "metadata": {},
     "output_type": "execute_result"
    }
   ],
   "source": [
    "sq.describe_all()"
   ]
  },
  {
   "cell_type": "code",
   "execution_count": 7,
   "metadata": {},
   "outputs": [],
   "source": [
    "re = Rectangular(20, 30)"
   ]
  },
  {
   "cell_type": "code",
   "execution_count": 8,
   "metadata": {},
   "outputs": [
    {
     "data": {
      "text/plain": [
       "'The Rectangular has a height of 20 and a width of 30 and its total area is 600'"
      ]
     },
     "execution_count": 8,
     "metadata": {},
     "output_type": "execute_result"
    }
   ],
   "source": [
    "re.describe_all()"
   ]
  },
  {
   "cell_type": "code",
   "execution_count": 9,
   "metadata": {},
   "outputs": [],
   "source": [
    "tr = Triangle(20, 10)"
   ]
  },
  {
   "cell_type": "code",
   "execution_count": 10,
   "metadata": {},
   "outputs": [
    {
     "data": {
      "text/plain": [
       "'The Triangle has a height of 20 and a width of 10 and its total area is 100.0'"
      ]
     },
     "execution_count": 10,
     "metadata": {},
     "output_type": "execute_result"
    }
   ],
   "source": [
    "tr.describe_all()"
   ]
  },
  {
   "cell_type": "markdown",
   "metadata": {},
   "source": [
    "### What to reflect on\n",
    "The following is ideas for your reflective journal. You are welcome to add your own reflection, but these are some key things I think would benefit you to reflect on.\n",
    "\n",
    "What method signatures have you used before in python?\n",
    "\n",
    "How would you use access modifiers and property methods to make your own classes more robust?\n",
    "\n",
    "Can you think of a few advantages of using docstrings in your own classes? "
   ]
  },
  {
   "cell_type": "code",
   "execution_count": null,
   "metadata": {},
   "outputs": [],
   "source": []
  }
 ],
 "metadata": {
  "kernelspec": {
   "display_name": "Python 3",
   "language": "python",
   "name": "python3"
  },
  "language_info": {
   "codemirror_mode": {
    "name": "ipython",
    "version": 3
   },
   "file_extension": ".py",
   "mimetype": "text/x-python",
   "name": "python",
   "nbconvert_exporter": "python",
   "pygments_lexer": "ipython3",
   "version": "3.7.3"
  }
 },
 "nbformat": 4,
 "nbformat_minor": 2
}
